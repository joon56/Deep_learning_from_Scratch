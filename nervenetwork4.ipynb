{
 "cells": [
  {
   "cell_type": "code",
   "execution_count": 2,
   "id": "09995a23",
   "metadata": {},
   "outputs": [
    {
     "name": "stdout",
     "output_type": "stream",
     "text": [
      "(60000, 784)\n",
      "(60000,)\n",
      "(10000, 784)\n",
      "(10000,)\n"
     ]
    }
   ],
   "source": [
    "import sys, os\n",
    "sys.path.append('C:\\\\Users\\\\유민준\\\\Documents\\Deep Learning from Scratch\\\\deep-learning-from-scratch-master')\n",
    "from dataset.mnist import load_mnist\n",
    "\n",
    "(x_train, t_train), (x_test, t_test) = \\\n",
    "    load_mnist(flatten=True, normalize=False)\n",
    "\n",
    "print(x_train.shape)\n",
    "print(t_train.shape)\n",
    "print(x_test.shape)\n",
    "print(t_test.shape)"
   ]
  },
  {
   "cell_type": "code",
   "execution_count": 15,
   "id": "afa76ce2",
   "metadata": {},
   "outputs": [
    {
     "name": "stdout",
     "output_type": "stream",
     "text": [
      "5\n",
      "(784,)\n",
      "(28, 28)\n"
     ]
    }
   ],
   "source": [
    "import sys \n",
    "import os\n",
    "import numpy as np\n",
    "sys.path.append('C:\\\\Users\\\\유민준\\\\Documents\\Deep Learning from Scratch\\\\deep-learning-from-scratch-master') # 부모 디렉토리\n",
    "from dataset.mnist import load_mnist # dataset폴더에 있는 mnist라는 파일에서 load_mnist라는 함수를 import 해라\n",
    "from PIL import Image\n",
    "\n",
    "def img_show(img):\n",
    "    pil_img = Image.fromarray(np.uint8(img)) # 넘파이로 저장된 이미지 데이터를 PIL용 데이터 객체로 변환하는 함수\n",
    "    pil_img.show()\n",
    "    \n",
    "(x_train, t_train), (x_test, t_test) = \\\n",
    "    load_mnist(flatten=True, normalize=False) # flattern = True로 설정해 읽어 들인 이미지는 1차원 넘파이 배열로 저장\n",
    "    \n",
    "img = x_train[0]\n",
    "label = t_train[0]\n",
    "print(label)\n",
    "\n",
    "print(img.shape)\n",
    "img = img.reshape(28,28) # 원래 이미지 모양으로 변형\n",
    "print(img.shape)\n",
    "\n",
    "img_show(img)"
   ]
  },
  {
   "cell_type": "code",
   "execution_count": 13,
   "id": "13757628",
   "metadata": {},
   "outputs": [],
   "source": [
    "# chap03 mnisttest 파일에서 구현한 것 보기\n",
    "\n",
    "# import sys, os\n",
    "# sys.path.append('C:\\\\Users\\\\유민준\\\\Documents\\Deep Learning from Scratch\\\\deep-learning-from-scratch-master')  \n",
    "# import numpy as np\n",
    "# import pickle\n",
    "# from dataset.mnist import load_mnist\n",
    "# from common.functions import sigmoid, softmax\n",
    "\n",
    "\n",
    "# def get_data():\n",
    "#     (x_train, t_train), (x_test, t_test) = load_mnist(normalize=True, flatten=True, one_hot_label=False)\n",
    "#     return x_test, t_test\n",
    "\n",
    "\n",
    "# def init_network():\n",
    "#     with open('sample_weight.pkl', 'rb') as f:\n",
    "#         network = pickle.load(f)\n",
    "#     return network\n",
    "\n",
    "\n",
    "# def predict(network, x):\n",
    "#     W1, W2, W3 = network['W1'], network['W2'], network['W3']\n",
    "#     b1, b2, b3 = network['b1'], network['b2'], network['b3']\n",
    "\n",
    "#     a1 = np.dot(x, W1) + b1\n",
    "#     z1 = sigmoid(a1)\n",
    "#     a2 = np.dot(z1, W2) + b2\n",
    "#     z2 = sigmoid(a2)\n",
    "#     a3 = np.dot(z2, W3) + b3\n",
    "#     y = softmax(a3)\n",
    "\n",
    "#     return y\n",
    "\n",
    "\n",
    "# x, t = get_data()\n",
    "# network = init_network()\n",
    "# accuracy_cnt = 0\n",
    "# for i in range(len(x)):\n",
    "#     y = predict(network, x[i])\n",
    "#     p= np.argmax(y) # 확률이 가장 높은 원소의 인덱스를 얻는다.\n",
    "#     if p == t[i]:\n",
    "#         accuracy_cnt += 1\n",
    "\n",
    "# print(\"Accuracy:\" + str(float(accuracy_cnt) / len(x)))\n"
   ]
  },
  {
   "cell_type": "code",
   "execution_count": 17,
   "id": "a75fc8bf",
   "metadata": {},
   "outputs": [
    {
     "data": {
      "image/png": "[encoded data removed]",
      "text/plain": [
       "<Figure size 640x480 with 1 Axes>"
      ]
     },
     "metadata": {},
     "output_type": "display_data"
    }
   ],
   "source": [
    "import matplotlib.pyplot as plt\n",
    "from matplotlib.image import imread\n",
    "from PIL import Image\n",
    "import numpy as np\n",
    "\n",
    "img = Image.open('6.jpg')\n",
    "img = img.resize((28,28))\n",
    "img = np.array(img)\n",
    "\n",
    "plt.imshow(img)\n",
    "plt.show()"
   ]
  },
  {
   "cell_type": "code",
   "execution_count": null,
   "id": "dbeb6809",
   "metadata": {},
   "outputs": [],
   "source": []
  }
 ],
 "metadata": {
  "kernelspec": {
   "display_name": "Python 3 (ipykernel)",
   "language": "python",
   "name": "python3"
  },
  "language_info": {
   "codemirror_mode": {
    "name": "ipython",
    "version": 3
   },
   "file_extension": ".py",
   "mimetype": "text/x-python",
   "name": "python",
   "nbconvert_exporter": "python",
   "pygments_lexer": "ipython3",
   "version": "3.9.15"
  }
 },
 "nbformat": 4,
 "nbformat_minor": 5
}
